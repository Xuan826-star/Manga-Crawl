{
 "cells": [
  {
   "cell_type": "code",
   "execution_count": 37,
   "metadata": {},
   "outputs": [
    {
     "name": "stdout",
     "output_type": "stream",
     "text": [
      "[['img0', 'title0', 'author0', 'chapter0'], ['img1', 'title1', 'author1', 'chapter1'], ['img2', 'title2', 'author2', 'chapter2'], ['img3', 'title3', 'author3', 'chapter3'], ['img4', 'title4', 'author4', 'chapter4'], ['img5', 'title5', 'author5', 'chapter5'], ['img6', 'title6', 'author6', 'chapter6'], ['img7', 'title7', 'author7', 'chapter7'], ['img8', 'title8', 'author8', 'chapter8'], ['img9', 'title9', 'author9', 'chapter9']]\n"
     ]
    },
    {
     "data": {
      "text/html": [
       "<div>\n",
       "<style scoped>\n",
       "    .dataframe tbody tr th:only-of-type {\n",
       "        vertical-align: middle;\n",
       "    }\n",
       "\n",
       "    .dataframe tbody tr th {\n",
       "        vertical-align: top;\n",
       "    }\n",
       "\n",
       "    .dataframe thead th {\n",
       "        text-align: right;\n",
       "    }\n",
       "</style>\n",
       "<table border=\"1\" class=\"dataframe\">\n",
       "  <thead>\n",
       "    <tr style=\"text-align: right;\">\n",
       "      <th></th>\n",
       "      <th>img</th>\n",
       "      <th>title</th>\n",
       "      <th>author</th>\n",
       "      <th>chapter</th>\n",
       "    </tr>\n",
       "  </thead>\n",
       "  <tbody>\n",
       "    <tr>\n",
       "      <th>0</th>\n",
       "      <td>img0</td>\n",
       "      <td>title0</td>\n",
       "      <td>author0</td>\n",
       "      <td>chapter0</td>\n",
       "    </tr>\n",
       "    <tr>\n",
       "      <th>1</th>\n",
       "      <td>img1</td>\n",
       "      <td>title1</td>\n",
       "      <td>author1</td>\n",
       "      <td>chapter1</td>\n",
       "    </tr>\n",
       "    <tr>\n",
       "      <th>2</th>\n",
       "      <td>img2</td>\n",
       "      <td>title2</td>\n",
       "      <td>author2</td>\n",
       "      <td>chapter2</td>\n",
       "    </tr>\n",
       "    <tr>\n",
       "      <th>3</th>\n",
       "      <td>img3</td>\n",
       "      <td>title3</td>\n",
       "      <td>author3</td>\n",
       "      <td>chapter3</td>\n",
       "    </tr>\n",
       "    <tr>\n",
       "      <th>4</th>\n",
       "      <td>img4</td>\n",
       "      <td>title4</td>\n",
       "      <td>author4</td>\n",
       "      <td>chapter4</td>\n",
       "    </tr>\n",
       "    <tr>\n",
       "      <th>5</th>\n",
       "      <td>img5</td>\n",
       "      <td>title5</td>\n",
       "      <td>author5</td>\n",
       "      <td>chapter5</td>\n",
       "    </tr>\n",
       "    <tr>\n",
       "      <th>6</th>\n",
       "      <td>img6</td>\n",
       "      <td>title6</td>\n",
       "      <td>author6</td>\n",
       "      <td>chapter6</td>\n",
       "    </tr>\n",
       "    <tr>\n",
       "      <th>7</th>\n",
       "      <td>img7</td>\n",
       "      <td>title7</td>\n",
       "      <td>author7</td>\n",
       "      <td>chapter7</td>\n",
       "    </tr>\n",
       "    <tr>\n",
       "      <th>8</th>\n",
       "      <td>img8</td>\n",
       "      <td>title8</td>\n",
       "      <td>author8</td>\n",
       "      <td>chapter8</td>\n",
       "    </tr>\n",
       "    <tr>\n",
       "      <th>9</th>\n",
       "      <td>img9</td>\n",
       "      <td>title9</td>\n",
       "      <td>author9</td>\n",
       "      <td>chapter9</td>\n",
       "    </tr>\n",
       "  </tbody>\n",
       "</table>\n",
       "</div>"
      ],
      "text/plain": [
       "    img   title   author   chapter\n",
       "0  img0  title0  author0  chapter0\n",
       "1  img1  title1  author1  chapter1\n",
       "2  img2  title2  author2  chapter2\n",
       "3  img3  title3  author3  chapter3\n",
       "4  img4  title4  author4  chapter4\n",
       "5  img5  title5  author5  chapter5\n",
       "6  img6  title6  author6  chapter6\n",
       "7  img7  title7  author7  chapter7\n",
       "8  img8  title8  author8  chapter8\n",
       "9  img9  title9  author9  chapter9"
      ]
     },
     "execution_count": 37,
     "metadata": {},
     "output_type": "execute_result"
    }
   ],
   "source": [
    "import pandas as pd\n",
    "f_history=open('history.csv','r')\n",
    "lines=f_history.readlines()\n",
    "#structure:\n",
    "# img,title,author,chapter\n",
    "for i in range(len(lines)):\n",
    "    line=lines[i].strip().split(',')\n",
    "    lines[i]=line\n",
    "\n",
    "print(lines)\n",
    "pd.DataFrame(lines,columns=['img','title','author','chapter'])\n"
   ]
  }
 ],
 "metadata": {
  "kernelspec": {
   "display_name": "Python 3",
   "language": "python",
   "name": "python3"
  },
  "language_info": {
   "codemirror_mode": {
    "name": "ipython",
    "version": 3
   },
   "file_extension": ".py",
   "mimetype": "text/x-python",
   "name": "python",
   "nbconvert_exporter": "python",
   "pygments_lexer": "ipython3",
   "version": "3.9.6 (tags/v3.9.6:db3ff76, Jun 28 2021, 15:26:21) [MSC v.1929 64 bit (AMD64)]"
  },
  "orig_nbformat": 4,
  "vscode": {
   "interpreter": {
    "hash": "2469a70536e4d2335a2ea8907942d0699c37342a371ac185bdb5b0aa6f073890"
   }
  }
 },
 "nbformat": 4,
 "nbformat_minor": 2
}
